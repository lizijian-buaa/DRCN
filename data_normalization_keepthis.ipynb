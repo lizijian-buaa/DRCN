{
  "nbformat": 4,
  "nbformat_minor": 0,
  "metadata": {
    "kernelspec": {
      "name": "python3",
      "display_name": "Python 3"
    },
    "language_info": {
      "codemirror_mode": {
        "name": "ipython",
        "version": 3
      },
      "file_extension": ".py",
      "mimetype": "text/x-python",
      "name": "python",
      "nbconvert_exporter": "python",
      "pygments_lexer": "ipython3",
      "version": "3.7.3"
    },
    "colab": {
      "name": "data_normalization_keepthis.ipynb",
      "provenance": [],
      "collapsed_sections": [],
      "machine_shape": "hm"
    },
    "accelerator": "GPU"
  },
  "cells": [
    {
      "cell_type": "code",
      "metadata": {
        "id": "g4CnS7ifOKTj",
        "colab_type": "code",
        "outputId": "9ae6c542-58f6-49e8-8898-f669d5254638",
        "colab": {
          "base_uri": "https://localhost:8080/",
          "height": 35
        }
      },
      "source": [
        "from google.colab import drive\n",
        "drive.mount('/content/drive')"
      ],
      "execution_count": 0,
      "outputs": [
        {
          "output_type": "stream",
          "text": [
            "Drive already mounted at /content/drive; to attempt to forcibly remount, call drive.mount(\"/content/drive\", force_remount=True).\n"
          ],
          "name": "stdout"
        }
      ]
    },
    {
      "cell_type": "code",
      "metadata": {
        "id": "y7pUdQeKF50o",
        "colab_type": "code",
        "colab": {}
      },
      "source": [
        "# Try some strategy to improve the DRCN's result:\n",
        "# decaying learning rate\n",
        "# dataset-size related lambda\n",
        "# keep RGB channels when Fc.evaluate(target['data'],target['label']) if svhn is target (which chanel has the most confidence will\n",
        "import numpy as np\n",
        "import matplotlib.pyplot as plt\n",
        "import os\n",
        "import tensorflow as tf\n",
        "import h5py\n",
        "from scipy.io import loadmat\n",
        "\n",
        "class dataloader(object):\n",
        "    def __init__(self):\n",
        "        self.USPS={}\n",
        "        self.MNIST={}\n",
        "        self.SVHN={}\n",
        "        self.num=[]\n",
        "        \n",
        "    def load_MNIST_USPS_SVHN(self,num):\n",
        "        self.num=num  # this would be like [70000 9298 100000], in case of MemoryError, only use some number of the data\n",
        "        self.MNIST=self.load_MNIST()\n",
        "        self.USPS=self.load_USPS()\n",
        "        self.SVHN=self.load_SVHN()\n",
        "    \n",
        "    def load_MNIST(self):\n",
        "        # download from internet\n",
        "        (x_train, y_train), (x_test, y_test) = tf.keras.datasets.mnist.load_data()\n",
        "        t={}\n",
        "        t['data']=np.concatenate((x_train,x_test),axis=0)[0:self.num[0]]  # (70000, 28, 28)\n",
        "        t['label']=np.concatenate((y_train,y_test),axis=0)[0:self.num[0]]\n",
        "        return t\n",
        "    \n",
        "    def load_USPS(self):\n",
        "        # .h5 format\n",
        "        with h5py.File('/content/drive/My Drive/usps.h5', 'r') as hf:\n",
        "            train = hf.get('train')\n",
        "            x_tr = train.get('data')[:]\n",
        "            y_tr = train.get('target')[:]\n",
        "            test = hf.get('test')\n",
        "            x_te = test.get('data')[:]\n",
        "            y_te = test.get('target')[:]\n",
        "        x=np.concatenate((x_tr,x_te),axis=0)\n",
        "        t={}\n",
        "        t['data']=np.reshape(x,(x.shape[0],16,16))[0:self.num[1]]  # (9298, 16, 16)     \n",
        "        t['label']=np.concatenate((y_tr,y_te),axis=0)[0:self.num[1]]\n",
        "        return t\n",
        "       \n",
        "    def load_SVHN(self):  # too large dataset\n",
        "        # .mat format\n",
        "        x0=loadmat('/content/drive/My Drive/SVHN/extra_32x32.mat')\n",
        "        x1=loadmat('/content/drive/My Drive/SVHN/test_32x32.mat')\n",
        "        x2=loadmat('/content/drive/My Drive/SVHN/train_32x32.mat')\n",
        "        t={}\n",
        "        t['data']=np.moveaxis(np.concatenate((x0['X'],x1['X'],x2['X']),axis=3),-1,0)  # (630420, 32, 32, 3)\n",
        "        t['data']=t['data'][0:self.num[2]]         \n",
        "        t['label']=np.concatenate((np.squeeze(x0['y']),np.squeeze(x1['y']),np.squeeze(x2['y'])),axis=0)\n",
        "        t['label']=t['label'][0:self.num[2]]\n",
        "        return t"
      ],
      "execution_count": 0,
      "outputs": []
    },
    {
      "cell_type": "code",
      "metadata": {
        "scrolled": true,
        "id": "AU5Tb0FP1YIZ",
        "colab_type": "code",
        "outputId": "7c512335-f631-45f9-ff88-8358d7916a7f",
        "colab": {
          "base_uri": "https://localhost:8080/",
          "height": 395
        }
      },
      "source": [
        "import gc #（garbage collector）\n",
        "import cv2\n",
        "import numpy as np\n",
        "import matplotlib.pyplot as plt\n",
        "loader=dataloader()\n",
        "loader.load_MNIST_USPS_SVHN([70000,0,300000]) # maxmum [70000 9298 630420], take care of memory error [70000,0,300000]\n",
        "# rescale data range from 0.0 to 1.0:\n",
        "loader.MNIST['data']=loader.MNIST['data']/255\n",
        "loader.SVHN['data']=loader.SVHN['data']/255\n",
        "loader.SVHN['label'][loader.SVHN['label']==10]=0 # labels range from 0 to 9\n",
        "\n",
        "method='INTER_LINEAR' # for resizing image\n",
        "if method=='INTER_AREA':  # sharp\n",
        "    method_=cv2.INTER_AREA\n",
        "elif method=='INTER_LINEAR':  # blur\n",
        "    method_=cv2.INTER_LINEAR\n",
        "else:\n",
        "    raise Exception('this method is probably bad. If you want to use still, change the code')\n",
        "mnist,usps,svhn={},{},{}\n",
        "mnist['data']=np.zeros((loader.MNIST['data'].shape[0],32,32))\n",
        "mnist['label']=loader.MNIST['label']\n",
        "for i in range(loader.MNIST['data'].shape[0]):\n",
        "    mnist['data'][i]=cv2.resize(loader.MNIST['data'][i], dsize=(32, 32), interpolation=method_)\n",
        "del loader.MNIST\n",
        "gc.collect()\n",
        "\n",
        "usps['data']=np.zeros((loader.USPS['data'].shape[0],32,32))\n",
        "usps['label']=loader.USPS['label']\n",
        "for i in range(loader.USPS['data'].shape[0]):\n",
        "    usps['data'][i]=cv2.resize(loader.USPS['data'][i], dsize=(32, 32), interpolation=method_)\n",
        "del loader.USPS\n",
        "gc.collect()\n",
        "\n",
        "# Currently we are just change the RGB image to grayscale, which may loose key information sometimes \n",
        "# svhn_RGB=dict('data',loader.SVHN['data'][0:1000]) # for test\n",
        "svhn['data']=np.average(loader.SVHN['data'],axis=3,weights=[0.299,0.587,0.114])\n",
        "svhn['label']=loader.SVHN['label']\n",
        "del loader.SVHN\n",
        "gc.collect()\n",
        "\n",
        "\n",
        "del loader\n",
        "gc.collect()"
      ],
      "execution_count": 0,
      "outputs": [
        {
          "output_type": "error",
          "ename": "KeyboardInterrupt",
          "evalue": "ignored",
          "traceback": [
            "\u001b[0;31m---------------------------------------------------------------------------\u001b[0m",
            "\u001b[0;31mKeyboardInterrupt\u001b[0m                         Traceback (most recent call last)",
            "\u001b[0;32m<ipython-input-3-74a9d766b086>\u001b[0m in \u001b[0;36m<module>\u001b[0;34m()\u001b[0m\n\u001b[1;32m      4\u001b[0m \u001b[0;32mimport\u001b[0m \u001b[0mmatplotlib\u001b[0m\u001b[0;34m.\u001b[0m\u001b[0mpyplot\u001b[0m \u001b[0;32mas\u001b[0m \u001b[0mplt\u001b[0m\u001b[0;34m\u001b[0m\u001b[0;34m\u001b[0m\u001b[0m\n\u001b[1;32m      5\u001b[0m \u001b[0mloader\u001b[0m\u001b[0;34m=\u001b[0m\u001b[0mdataloader\u001b[0m\u001b[0;34m(\u001b[0m\u001b[0;34m)\u001b[0m\u001b[0;34m\u001b[0m\u001b[0;34m\u001b[0m\u001b[0m\n\u001b[0;32m----> 6\u001b[0;31m \u001b[0mloader\u001b[0m\u001b[0;34m.\u001b[0m\u001b[0mload_MNIST_USPS_SVHN\u001b[0m\u001b[0;34m(\u001b[0m\u001b[0;34m[\u001b[0m\u001b[0;36m70000\u001b[0m\u001b[0;34m,\u001b[0m\u001b[0;36m0\u001b[0m\u001b[0;34m,\u001b[0m\u001b[0;36m300000\u001b[0m\u001b[0;34m]\u001b[0m\u001b[0;34m)\u001b[0m \u001b[0;31m# maxmum [70000 9298 630420], take care of memory error [70000,0,300000]\u001b[0m\u001b[0;34m\u001b[0m\u001b[0;34m\u001b[0m\u001b[0m\n\u001b[0m\u001b[1;32m      7\u001b[0m \u001b[0;31m# rescale data range from 0.0 to 1.0:\u001b[0m\u001b[0;34m\u001b[0m\u001b[0;34m\u001b[0m\u001b[0;34m\u001b[0m\u001b[0m\n\u001b[1;32m      8\u001b[0m \u001b[0mloader\u001b[0m\u001b[0;34m.\u001b[0m\u001b[0mMNIST\u001b[0m\u001b[0;34m[\u001b[0m\u001b[0;34m'data'\u001b[0m\u001b[0;34m]\u001b[0m\u001b[0;34m=\u001b[0m\u001b[0mloader\u001b[0m\u001b[0;34m.\u001b[0m\u001b[0mMNIST\u001b[0m\u001b[0;34m[\u001b[0m\u001b[0;34m'data'\u001b[0m\u001b[0;34m]\u001b[0m\u001b[0;34m/\u001b[0m\u001b[0;36m255\u001b[0m\u001b[0;34m\u001b[0m\u001b[0;34m\u001b[0m\u001b[0m\n",
            "\u001b[0;32m<ipython-input-2-cfb9ca13fd28>\u001b[0m in \u001b[0;36mload_MNIST_USPS_SVHN\u001b[0;34m(self, num)\u001b[0m\n\u001b[1;32m     17\u001b[0m         \u001b[0mself\u001b[0m\u001b[0;34m.\u001b[0m\u001b[0mMNIST\u001b[0m\u001b[0;34m=\u001b[0m\u001b[0mself\u001b[0m\u001b[0;34m.\u001b[0m\u001b[0mload_MNIST\u001b[0m\u001b[0;34m(\u001b[0m\u001b[0;34m)\u001b[0m\u001b[0;34m\u001b[0m\u001b[0;34m\u001b[0m\u001b[0m\n\u001b[1;32m     18\u001b[0m         \u001b[0mself\u001b[0m\u001b[0;34m.\u001b[0m\u001b[0mUSPS\u001b[0m\u001b[0;34m=\u001b[0m\u001b[0mself\u001b[0m\u001b[0;34m.\u001b[0m\u001b[0mload_USPS\u001b[0m\u001b[0;34m(\u001b[0m\u001b[0;34m)\u001b[0m\u001b[0;34m\u001b[0m\u001b[0;34m\u001b[0m\u001b[0m\n\u001b[0;32m---> 19\u001b[0;31m         \u001b[0mself\u001b[0m\u001b[0;34m.\u001b[0m\u001b[0mSVHN\u001b[0m\u001b[0;34m=\u001b[0m\u001b[0mself\u001b[0m\u001b[0;34m.\u001b[0m\u001b[0mload_SVHN\u001b[0m\u001b[0;34m(\u001b[0m\u001b[0;34m)\u001b[0m\u001b[0;34m\u001b[0m\u001b[0;34m\u001b[0m\u001b[0m\n\u001b[0m\u001b[1;32m     20\u001b[0m \u001b[0;34m\u001b[0m\u001b[0m\n\u001b[1;32m     21\u001b[0m     \u001b[0;32mdef\u001b[0m \u001b[0mload_MNIST\u001b[0m\u001b[0;34m(\u001b[0m\u001b[0mself\u001b[0m\u001b[0;34m)\u001b[0m\u001b[0;34m:\u001b[0m\u001b[0;34m\u001b[0m\u001b[0;34m\u001b[0m\u001b[0m\n",
            "\u001b[0;32m<ipython-input-2-cfb9ca13fd28>\u001b[0m in \u001b[0;36mload_SVHN\u001b[0;34m(self)\u001b[0m\n\u001b[1;32m     44\u001b[0m     \u001b[0;32mdef\u001b[0m \u001b[0mload_SVHN\u001b[0m\u001b[0;34m(\u001b[0m\u001b[0mself\u001b[0m\u001b[0;34m)\u001b[0m\u001b[0;34m:\u001b[0m  \u001b[0;31m# too large dataset\u001b[0m\u001b[0;34m\u001b[0m\u001b[0;34m\u001b[0m\u001b[0m\n\u001b[1;32m     45\u001b[0m         \u001b[0;31m# .mat format\u001b[0m\u001b[0;34m\u001b[0m\u001b[0;34m\u001b[0m\u001b[0;34m\u001b[0m\u001b[0m\n\u001b[0;32m---> 46\u001b[0;31m         \u001b[0mx0\u001b[0m\u001b[0;34m=\u001b[0m\u001b[0mloadmat\u001b[0m\u001b[0;34m(\u001b[0m\u001b[0;34m'/content/drive/My Drive/SVHN/extra_32x32.mat'\u001b[0m\u001b[0;34m)\u001b[0m\u001b[0;34m\u001b[0m\u001b[0;34m\u001b[0m\u001b[0m\n\u001b[0m\u001b[1;32m     47\u001b[0m         \u001b[0mx1\u001b[0m\u001b[0;34m=\u001b[0m\u001b[0mloadmat\u001b[0m\u001b[0;34m(\u001b[0m\u001b[0;34m'/content/drive/My Drive/SVHN/test_32x32.mat'\u001b[0m\u001b[0;34m)\u001b[0m\u001b[0;34m\u001b[0m\u001b[0;34m\u001b[0m\u001b[0m\n\u001b[1;32m     48\u001b[0m         \u001b[0mx2\u001b[0m\u001b[0;34m=\u001b[0m\u001b[0mloadmat\u001b[0m\u001b[0;34m(\u001b[0m\u001b[0;34m'/content/drive/My Drive/SVHN/train_32x32.mat'\u001b[0m\u001b[0;34m)\u001b[0m\u001b[0;34m\u001b[0m\u001b[0;34m\u001b[0m\u001b[0m\n",
            "\u001b[0;32m/usr/local/lib/python3.6/dist-packages/scipy/io/matlab/mio.py\u001b[0m in \u001b[0;36mloadmat\u001b[0;34m(file_name, mdict, appendmat, **kwargs)\u001b[0m\n\u001b[1;32m    216\u001b[0m     \u001b[0;32mwith\u001b[0m \u001b[0m_open_file_context\u001b[0m\u001b[0;34m(\u001b[0m\u001b[0mfile_name\u001b[0m\u001b[0;34m,\u001b[0m \u001b[0mappendmat\u001b[0m\u001b[0;34m)\u001b[0m \u001b[0;32mas\u001b[0m \u001b[0mf\u001b[0m\u001b[0;34m:\u001b[0m\u001b[0;34m\u001b[0m\u001b[0;34m\u001b[0m\u001b[0m\n\u001b[1;32m    217\u001b[0m         \u001b[0mMR\u001b[0m\u001b[0;34m,\u001b[0m \u001b[0m_\u001b[0m \u001b[0;34m=\u001b[0m \u001b[0mmat_reader_factory\u001b[0m\u001b[0;34m(\u001b[0m\u001b[0mf\u001b[0m\u001b[0;34m,\u001b[0m \u001b[0;34m**\u001b[0m\u001b[0mkwargs\u001b[0m\u001b[0;34m)\u001b[0m\u001b[0;34m\u001b[0m\u001b[0;34m\u001b[0m\u001b[0m\n\u001b[0;32m--> 218\u001b[0;31m         \u001b[0mmatfile_dict\u001b[0m \u001b[0;34m=\u001b[0m \u001b[0mMR\u001b[0m\u001b[0;34m.\u001b[0m\u001b[0mget_variables\u001b[0m\u001b[0;34m(\u001b[0m\u001b[0mvariable_names\u001b[0m\u001b[0;34m)\u001b[0m\u001b[0;34m\u001b[0m\u001b[0;34m\u001b[0m\u001b[0m\n\u001b[0m\u001b[1;32m    219\u001b[0m \u001b[0;34m\u001b[0m\u001b[0m\n\u001b[1;32m    220\u001b[0m     \u001b[0;32mif\u001b[0m \u001b[0mmdict\u001b[0m \u001b[0;32mis\u001b[0m \u001b[0;32mnot\u001b[0m \u001b[0;32mNone\u001b[0m\u001b[0;34m:\u001b[0m\u001b[0;34m\u001b[0m\u001b[0;34m\u001b[0m\u001b[0m\n",
            "\u001b[0;32m/usr/local/lib/python3.6/dist-packages/scipy/io/matlab/mio5.py\u001b[0m in \u001b[0;36mget_variables\u001b[0;34m(self, variable_names)\u001b[0m\n\u001b[1;32m    290\u001b[0m                 \u001b[0;32mcontinue\u001b[0m\u001b[0;34m\u001b[0m\u001b[0;34m\u001b[0m\u001b[0m\n\u001b[1;32m    291\u001b[0m             \u001b[0;32mtry\u001b[0m\u001b[0;34m:\u001b[0m\u001b[0;34m\u001b[0m\u001b[0;34m\u001b[0m\u001b[0m\n\u001b[0;32m--> 292\u001b[0;31m                 \u001b[0mres\u001b[0m \u001b[0;34m=\u001b[0m \u001b[0mself\u001b[0m\u001b[0;34m.\u001b[0m\u001b[0mread_var_array\u001b[0m\u001b[0;34m(\u001b[0m\u001b[0mhdr\u001b[0m\u001b[0;34m,\u001b[0m \u001b[0mprocess\u001b[0m\u001b[0;34m)\u001b[0m\u001b[0;34m\u001b[0m\u001b[0;34m\u001b[0m\u001b[0m\n\u001b[0m\u001b[1;32m    293\u001b[0m             \u001b[0;32mexcept\u001b[0m \u001b[0mMatReadError\u001b[0m \u001b[0;32mas\u001b[0m \u001b[0merr\u001b[0m\u001b[0;34m:\u001b[0m\u001b[0;34m\u001b[0m\u001b[0;34m\u001b[0m\u001b[0m\n\u001b[1;32m    294\u001b[0m                 warnings.warn(\n",
            "\u001b[0;32m/usr/local/lib/python3.6/dist-packages/scipy/io/matlab/mio5.py\u001b[0m in \u001b[0;36mread_var_array\u001b[0;34m(self, header, process)\u001b[0m\n\u001b[1;32m    250\u001b[0m            \u001b[0;31m`\u001b[0m\u001b[0mprocess\u001b[0m\u001b[0;31m`\u001b[0m\u001b[0;34m.\u001b[0m\u001b[0;34m\u001b[0m\u001b[0;34m\u001b[0m\u001b[0m\n\u001b[1;32m    251\u001b[0m         '''\n\u001b[0;32m--> 252\u001b[0;31m         \u001b[0;32mreturn\u001b[0m \u001b[0mself\u001b[0m\u001b[0;34m.\u001b[0m\u001b[0m_matrix_reader\u001b[0m\u001b[0;34m.\u001b[0m\u001b[0marray_from_header\u001b[0m\u001b[0;34m(\u001b[0m\u001b[0mheader\u001b[0m\u001b[0;34m,\u001b[0m \u001b[0mprocess\u001b[0m\u001b[0;34m)\u001b[0m\u001b[0;34m\u001b[0m\u001b[0;34m\u001b[0m\u001b[0m\n\u001b[0m\u001b[1;32m    253\u001b[0m \u001b[0;34m\u001b[0m\u001b[0m\n\u001b[1;32m    254\u001b[0m     \u001b[0;32mdef\u001b[0m \u001b[0mget_variables\u001b[0m\u001b[0;34m(\u001b[0m\u001b[0mself\u001b[0m\u001b[0;34m,\u001b[0m \u001b[0mvariable_names\u001b[0m\u001b[0;34m=\u001b[0m\u001b[0;32mNone\u001b[0m\u001b[0;34m)\u001b[0m\u001b[0;34m:\u001b[0m\u001b[0;34m\u001b[0m\u001b[0;34m\u001b[0m\u001b[0m\n",
            "\u001b[0;31mKeyboardInterrupt\u001b[0m: "
          ]
        }
      ]
    },
    {
      "cell_type": "code",
      "metadata": {
        "id": "r6wv-GCp1YId",
        "colab_type": "code",
        "outputId": "ca5b912d-b869-4384-c5a9-53bb3e8e2197",
        "colab": {
          "base_uri": "https://localhost:8080/",
          "height": 35
        }
      },
      "source": [
        "import keras\n",
        "source=svhn\n",
        "target=mnist\n",
        "if np.shape(source['data'])[-1]!=1:\n",
        "    source['data']=np.expand_dims(source['data'],axis=-1)\n",
        "if np.shape(target['data'])[-1]!=1:\n",
        "    target['data']=np.expand_dims(target['data'],axis=-1)\n",
        "if np.shape(source['label'])[-1]!=10:\n",
        "    source['label'] = keras.utils.to_categorical(source['label'], num_classes = 10)\n",
        "if np.shape(target['label'])[-1]!=10:\n",
        "    target['label'] = keras.utils.to_categorical(target['label'], num_classes = 10)"
      ],
      "execution_count": 0,
      "outputs": [
        {
          "output_type": "stream",
          "text": [
            "Using TensorFlow backend.\n"
          ],
          "name": "stderr"
        }
      ]
    },
    {
      "cell_type": "code",
      "metadata": {
        "id": "VswRVLHX1YIf",
        "colab_type": "code",
        "outputId": "95a37b1e-f072-4c48-d325-734651848847",
        "colab": {
          "base_uri": "https://localhost:8080/",
          "height": 328
        }
      },
      "source": [
        "from keras.layers import Input, Dense, Conv2D, MaxPooling2D, UpSampling2D\n",
        "from keras.layers import Flatten, Reshape, Dropout\n",
        "from keras.models import Model\n",
        "from keras import backend as K\n",
        "\n",
        "input_img = Input(shape=(32, 32, 1))\n",
        "\n",
        "x = Conv2D(100, (5, 5), activation='relu', padding='same')(input_img)\n",
        "x = MaxPooling2D((2, 2), padding='same')(x)\n",
        "x = Conv2D(150, (5, 5), activation='relu', padding='same')(x)\n",
        "x = MaxPooling2D((2, 2), padding='same')(x)\n",
        "x = Conv2D(200, (3, 3), activation='relu', padding='same')(x)\n",
        "x = MaxPooling2D((2, 2), padding='same')(x)\n",
        "# at this point the representation is (4, 4, 200) i.e. 3200-dimensional\n",
        "x = Flatten()(x)\n",
        "x = Dropout(rate=0.3)(x) # unmentioned dropout rate\n",
        "encoder = Dense(550, activation='relu')(x) # tunable in the range of[300, 350, ..., 1000]\n",
        "Genc = Model(inputs=input_img, outputs=encoder)\n",
        "\n",
        "x = Genc(input_img)\n",
        "x = Dropout(rate=0.4)(x) # unmentioned dropout rate\n",
        "label = Dense(10, activation='softmax')(x)\n",
        "Fc = Model(input_img, label)\n",
        "\n",
        "x = Genc(input_img)\n",
        "x = Dense(3200, activation='relu')(x)\n",
        "x = Reshape((4, 4, 200))(x)  # unflatten layer\n",
        "x = UpSampling2D((2, 2))(x)\n",
        "x = Conv2D(150, (3, 3), activation='relu', padding='same')(x)\n",
        "x = UpSampling2D((2, 2))(x)\n",
        "x = Conv2D(100, (5, 5), activation='relu', padding='same')(x)\n",
        "x = UpSampling2D((2, 2))(x)\n",
        "decoded = Conv2D(1, (5, 5), padding='same')(x)\n",
        "Fr = Model(input_img, decoded)\n",
        "\n",
        "j=0"
      ],
      "execution_count": 0,
      "outputs": [
        {
          "output_type": "stream",
          "text": [
            "WARNING: Logging before flag parsing goes to stderr.\n",
            "W0809 05:29:49.407147 140234352420736 deprecation_wrapper.py:119] From /usr/local/lib/python3.6/dist-packages/keras/backend/tensorflow_backend.py:74: The name tf.get_default_graph is deprecated. Please use tf.compat.v1.get_default_graph instead.\n",
            "\n",
            "W0809 05:29:49.457540 140234352420736 deprecation_wrapper.py:119] From /usr/local/lib/python3.6/dist-packages/keras/backend/tensorflow_backend.py:517: The name tf.placeholder is deprecated. Please use tf.compat.v1.placeholder instead.\n",
            "\n",
            "W0809 05:29:49.465058 140234352420736 deprecation_wrapper.py:119] From /usr/local/lib/python3.6/dist-packages/keras/backend/tensorflow_backend.py:4138: The name tf.random_uniform is deprecated. Please use tf.random.uniform instead.\n",
            "\n",
            "W0809 05:29:49.498374 140234352420736 deprecation_wrapper.py:119] From /usr/local/lib/python3.6/dist-packages/keras/backend/tensorflow_backend.py:3976: The name tf.nn.max_pool is deprecated. Please use tf.nn.max_pool2d instead.\n",
            "\n",
            "W0809 05:29:49.548235 140234352420736 deprecation_wrapper.py:119] From /usr/local/lib/python3.6/dist-packages/keras/backend/tensorflow_backend.py:133: The name tf.placeholder_with_default is deprecated. Please use tf.compat.v1.placeholder_with_default instead.\n",
            "\n",
            "W0809 05:29:49.560251 140234352420736 deprecation.py:506] From /usr/local/lib/python3.6/dist-packages/keras/backend/tensorflow_backend.py:3445: calling dropout (from tensorflow.python.ops.nn_ops) with keep_prob is deprecated and will be removed in a future version.\n",
            "Instructions for updating:\n",
            "Please use `rate` instead of `keep_prob`. Rate should be set to `rate = 1 - keep_prob`.\n",
            "W0809 05:29:49.705063 140234352420736 deprecation_wrapper.py:119] From /usr/local/lib/python3.6/dist-packages/keras/backend/tensorflow_backend.py:2018: The name tf.image.resize_nearest_neighbor is deprecated. Please use tf.compat.v1.image.resize_nearest_neighbor instead.\n",
            "\n"
          ],
          "name": "stderr"
        }
      ]
    },
    {
      "cell_type": "code",
      "metadata": {
        "scrolled": true,
        "id": "rSDSEfSq1YIj",
        "colab_type": "code",
        "outputId": "aa653e2a-a700-40ff-afbe-c7235045d305",
        "colab": {
          "base_uri": "https://localhost:8080/",
          "height": 1328
        }
      },
      "source": [
        "from statistics import variance as var\n",
        "# My experiment infers that increase the learning rate of the task(Fc or Fr) using small sized dataset will do help to increase the transfer accuracy\n",
        "lambda_c=0.7  # typically, the optimal value was in the range [0.4, 0.7]\n",
        "size_rate=np.sqrt(np.shape(target['data'])[0]/np.shape(source['data'])[0]) # I sqrt it\n",
        "# size_rate=np.shape(target['data'])[0]/np.shape(source['data'])[0]\n",
        "# size_rate=1\n",
        "lambda_c=lambda_c/(lambda_c+(1-lambda_c)/size_rate)\n",
        "lambda_c=np.around(lambda_c, decimals=3)\n",
        "alpha_c=0.0003 # originally 0.0001\n",
        "alpha_r=0.0003 # originally 0.0001\n",
        "from keras.optimizers import RMSprop\n",
        "Fc.compile(optimizer=RMSprop(lr=alpha_c*lambda_c, rho=0.9, epsilon=None, decay=0.0),\n",
        "           loss='categorical_crossentropy',metrics=['accuracy'])\n",
        "Fr.compile(optimizer=RMSprop(lr=alpha_r*(1-lambda_c), rho=0.9, epsilon=None, decay=0.0),\n",
        "           loss='mse', metrics=['accuracy'])\n",
        "stop=False\n",
        "if 'j' not in globals():\n",
        "    j=0\n",
        "if 'recon_loss' not in globals():\n",
        "    recon_loss=[]\n",
        "if 'train_acc' not in globals():    \n",
        "    train_acc=[]\n",
        "while not stop:\n",
        "    j=j+1\n",
        "#     Fc.fit(np.concatenate((source['data'],(1-source['data'])),axis=0), np.concatenate((source['label'],source['label']),axis=0),\n",
        "    Fc.fit(source['data'], source['label'],\n",
        "           epochs=1,\n",
        "           validation_split=0.1,\n",
        "           batch_size=256,\n",
        "           shuffle=True)\n",
        "    history_r=Fr.fit(target['data'],target['data'],\n",
        "           epochs=1,\n",
        "           validation_split=0.0,\n",
        "           batch_size=256,\n",
        "           shuffle=True)\n",
        "    recon_loss.append(history_r.history['loss'][0])\n",
        "    train_acc.append(Fc.evaluate(target['data'],target['label']))\n",
        "    print(train_acc[-1])\n",
        "# original\n",
        "    if j>5:\n",
        "        if recon_loss[-2]*0.05>abs(recon_loss[-2]-recon_loss[-1]) or j>50:\n",
        "            stop=True\n",
        "print('has run {} epoches'.format(j))\n"
      ],
      "execution_count": 0,
      "outputs": [
        {
          "output_type": "stream",
          "text": [
            "W0809 05:29:49.811671 140234352420736 deprecation_wrapper.py:119] From /usr/local/lib/python3.6/dist-packages/keras/optimizers.py:790: The name tf.train.Optimizer is deprecated. Please use tf.compat.v1.train.Optimizer instead.\n",
            "\n",
            "W0809 05:29:49.823168 140234352420736 deprecation_wrapper.py:119] From /usr/local/lib/python3.6/dist-packages/keras/backend/tensorflow_backend.py:3295: The name tf.log is deprecated. Please use tf.math.log instead.\n",
            "\n",
            "W0809 05:29:50.007978 140234352420736 deprecation.py:323] From /usr/local/lib/python3.6/dist-packages/tensorflow/python/ops/math_grad.py:1250: add_dispatch_support.<locals>.wrapper (from tensorflow.python.ops.array_ops) is deprecated and will be removed in a future version.\n",
            "Instructions for updating:\n",
            "Use tf.where in 2.0, which has the same broadcast rule as np.where\n"
          ],
          "name": "stderr"
        },
        {
          "output_type": "stream",
          "text": [
            "Train on 270000 samples, validate on 30000 samples\n",
            "Epoch 1/1\n",
            "270000/270000 [==============================] - 127s 472us/step - loss: 0.5007 - acc: 0.8447 - val_loss: 0.1908 - val_acc: 0.9472\n",
            "Epoch 1/1\n",
            "70000/70000 [==============================] - 63s 901us/step - loss: 0.0256 - acc: 0.7417\n",
            "70000/70000 [==============================] - 13s 183us/step\n",
            "[1.1117060764040265, 0.6962571428571429]\n",
            "Train on 270000 samples, validate on 30000 samples\n",
            "Epoch 1/1\n",
            "270000/270000 [==============================] - 144s 532us/step - loss: 0.1817 - acc: 0.9490 - val_loss: 0.1531 - val_acc: 0.9573\n",
            "Epoch 1/1\n",
            "70000/70000 [==============================] - 72s 1ms/step - loss: 0.0112 - acc: 0.7439\n",
            "70000/70000 [==============================] - 13s 181us/step\n",
            "[1.4436525648321423, 0.7047142857142857]\n",
            "Train on 270000 samples, validate on 30000 samples\n",
            "Epoch 1/1\n",
            "270000/270000 [==============================] - 120s 443us/step - loss: 0.1386 - acc: 0.9614 - val_loss: 0.1170 - val_acc: 0.9688\n",
            "Epoch 1/1\n",
            "70000/70000 [==============================] - 66s 948us/step - loss: 0.0091 - acc: 0.7440\n",
            "70000/70000 [==============================] - 13s 184us/step\n",
            "[1.519952231573207, 0.7174857142857143]\n",
            "Train on 270000 samples, validate on 30000 samples\n",
            "Epoch 1/1\n",
            "270000/270000 [==============================] - 121s 449us/step - loss: 0.1176 - acc: 0.9677 - val_loss: 0.1036 - val_acc: 0.9719\n",
            "Epoch 1/1\n",
            "70000/70000 [==============================] - 66s 946us/step - loss: 0.0080 - acc: 0.7440\n",
            "70000/70000 [==============================] - 13s 185us/step\n",
            "[1.6729124006769487, 0.7218142857142857]\n",
            "Train on 270000 samples, validate on 30000 samples\n",
            "Epoch 1/1\n",
            "270000/270000 [==============================] - 105s 389us/step - loss: 0.1048 - acc: 0.9715 - val_loss: 0.0953 - val_acc: 0.9746\n",
            "Epoch 1/1\n",
            "70000/70000 [==============================] - 77s 1ms/step - loss: 0.0073 - acc: 0.7441\n",
            "70000/70000 [==============================] - 13s 181us/step\n",
            "[1.7779423017071827, 0.7286428571428571]\n",
            "Train on 270000 samples, validate on 30000 samples\n",
            "Epoch 1/1\n",
            "270000/270000 [==============================] - 99s 368us/step - loss: 0.0982 - acc: 0.9735 - val_loss: 0.0969 - val_acc: 0.9747\n",
            "Epoch 1/1\n",
            "70000/70000 [==============================] - 73s 1ms/step - loss: 0.0069 - acc: 0.7441\n",
            "70000/70000 [==============================] - 13s 180us/step\n",
            "[1.8288923038214444, 0.7295714285714285]\n",
            "Train on 270000 samples, validate on 30000 samples\n",
            "Epoch 1/1\n",
            "270000/270000 [==============================] - 99s 368us/step - loss: 0.0934 - acc: 0.9749 - val_loss: 0.0928 - val_acc: 0.9760\n",
            "Epoch 1/1\n",
            "70000/70000 [==============================] - 66s 949us/step - loss: 0.0065 - acc: 0.7441\n",
            "70000/70000 [==============================] - 13s 182us/step\n",
            "[2.2203618839212824, 0.7214]\n",
            "Train on 270000 samples, validate on 30000 samples\n",
            "Epoch 1/1\n",
            "270000/270000 [==============================] - 122s 451us/step - loss: 0.0908 - acc: 0.9759 - val_loss: 0.0926 - val_acc: 0.9755\n",
            "Epoch 1/1\n",
            "70000/70000 [==============================] - 67s 952us/step - loss: 0.0061 - acc: 0.7441\n",
            "70000/70000 [==============================] - 13s 182us/step\n",
            "[1.9377651747618403, 0.7227285714285714]\n",
            "Train on 270000 samples, validate on 30000 samples\n",
            "Epoch 1/1\n",
            "270000/270000 [==============================] - 122s 451us/step - loss: 0.0885 - acc: 0.9767 - val_loss: 0.0988 - val_acc: 0.9742\n",
            "Epoch 1/1\n",
            "70000/70000 [==============================] - 67s 952us/step - loss: 0.0058 - acc: 0.7441\n",
            "70000/70000 [==============================] - 13s 182us/step\n",
            "[2.103642596031087, 0.7073571428571429]\n",
            "has run 9 epoches\n"
          ],
          "name": "stdout"
        }
      ]
    },
    {
      "cell_type": "code",
      "metadata": {
        "id": "sSCPSCzoxHlx",
        "colab_type": "code",
        "colab": {}
      },
      "source": [
        "# Genc.summary()"
      ],
      "execution_count": 0,
      "outputs": []
    },
    {
      "cell_type": "code",
      "metadata": {
        "id": "2WjRFM-ZxD1k",
        "colab_type": "code",
        "colab": {}
      },
      "source": [
        "# Fc.summary()"
      ],
      "execution_count": 0,
      "outputs": []
    },
    {
      "cell_type": "code",
      "metadata": {
        "id": "4yq-YDbloIAU",
        "colab_type": "code",
        "outputId": "5ee6f8eb-5568-45b2-f0cb-4753f69f6d23",
        "colab": {
          "base_uri": "https://localhost:8080/",
          "height": 245
        }
      },
      "source": [
        "import matplotlib.pyplot as plt\n",
        "starts=200\n",
        "n = 10\n",
        "decoded_imgs = Fr.predict(target['data'][starts:starts+n])\n",
        "plt.figure(figsize=(20, 4))\n",
        "for i in range(n):\n",
        "    # display original target\n",
        "    ax = plt.subplot(2, n, i+1)\n",
        "    plt.imshow(target['data'][i+starts].reshape(32, 32))\n",
        "    plt.gray()\n",
        "    ax.get_xaxis().set_visible(False)\n",
        "    ax.get_yaxis().set_visible(False)\n",
        "\n",
        "    # display reconstruction target\n",
        "    ax = plt.subplot(2, n, n+i+1)\n",
        "    plt.imshow(decoded_imgs[i].reshape(32, 32))\n",
        "    plt.gray()\n",
        "    ax.get_xaxis().set_visible(False)\n",
        "    ax.get_yaxis().set_visible(False)\n",
        "    "
      ],
      "execution_count": 0,
      "outputs": [
        {
          "output_type": "display_data",
          "data": {
            "image/png": "[encoded data removed]",
            "text/plain": [
              "<Figure size 1440x288 with 20 Axes>"
            ]
          },
          "metadata": {
            "tags": []
          }
        }
      ]
    },
    {
      "cell_type": "code",
      "metadata": {
        "id": "F4U9vgRapzSE",
        "colab_type": "code",
        "outputId": "2924a026-4d1b-4536-ff77-a768cc0a7e07",
        "colab": {
          "base_uri": "https://localhost:8080/",
          "height": 90
        }
      },
      "source": [
        "print('pred_label:')\n",
        "print(np.argmax(Fc.predict(target['data'][starts:starts+n]),axis=1))\n",
        "print('true_label:')\n",
        "print(np.argmax(target['label'][starts:starts+n],axis=1))"
      ],
      "execution_count": 0,
      "outputs": [
        {
          "output_type": "stream",
          "text": [
            "pred_label:\n",
            "[1 1 3 3 4 1 0 3 1 0]\n",
            "true_label:\n",
            "[1 1 8 3 6 1 0 3 1 0]\n"
          ],
          "name": "stdout"
        }
      ]
    },
    {
      "cell_type": "code",
      "metadata": {
        "id": "E-ZXcmSRg7TT",
        "colab_type": "code",
        "outputId": "a89ca555-0216-4516-8090-1973d1333bfd",
        "colab": {
          "base_uri": "https://localhost:8080/",
          "height": 745
        }
      },
      "source": [
        "pred_score=Fc.predict(target['data'][starts:starts+n])\n",
        "pred_label=np.argmax(pred_score,axis=1)\n",
        "true_label=np.argmax(target['label'][starts:starts+n],axis=1)\n",
        "for i in range(n):\n",
        "    print('confidence of prediction:')\n",
        "    print(pred_score[i][pred_label[i]])\n",
        "    print('confidence of true label:')\n",
        "    print(pred_score[i][true_label[i]])"
      ],
      "execution_count": 0,
      "outputs": [
        {
          "output_type": "stream",
          "text": [
            "confidence of prediction:\n",
            "1.0\n",
            "confidence of true label:\n",
            "1.0\n",
            "confidence of prediction:\n",
            "0.8738173\n",
            "confidence of true label:\n",
            "0.8738173\n",
            "confidence of prediction:\n",
            "0.984463\n",
            "confidence of true label:\n",
            "0.01427096\n",
            "confidence of prediction:\n",
            "1.0\n",
            "confidence of true label:\n",
            "1.0\n",
            "confidence of prediction:\n",
            "0.92467356\n",
            "confidence of true label:\n",
            "0.07433131\n",
            "confidence of prediction:\n",
            "0.9719767\n",
            "confidence of true label:\n",
            "0.9719767\n",
            "confidence of prediction:\n",
            "1.0\n",
            "confidence of true label:\n",
            "1.0\n",
            "confidence of prediction:\n",
            "0.945623\n",
            "confidence of true label:\n",
            "0.945623\n",
            "confidence of prediction:\n",
            "1.0\n",
            "confidence of true label:\n",
            "1.0\n",
            "confidence of prediction:\n",
            "1.0\n",
            "confidence of true label:\n",
            "1.0\n"
          ],
          "name": "stdout"
        }
      ]
    },
    {
      "cell_type": "code",
      "metadata": {
        "id": "EgjCKuPWDAhi",
        "colab_type": "code",
        "outputId": "09d2c3bf-0eaf-4f88-8da3-809ada3e8f66",
        "colab": {
          "base_uri": "https://localhost:8080/",
          "height": 199
        }
      },
      "source": [
        "# By definition a confusion matrix is such that is equal to the number of\n",
        "# observations known to be in group i but predicted to be in group j.(i,j)\n",
        "from sklearn.metrics import confusion_matrix\n",
        "conf_mx = confusion_matrix(np.argmax(target['label'],1),np.argmax(Fc.predict(target['data']),1))\n",
        "conf_mx"
      ],
      "execution_count": 0,
      "outputs": [
        {
          "output_type": "execute_result",
          "data": {
            "text/plain": [
              "array([[5396,   10,  603,   64,  512,    2,   51,    6,  258,    1],\n",
              "       [   0, 7421,    2,    0,  429,    0,    0,   25,    0,    0],\n",
              "       [ 110,  215, 3769, 1377,  728,   81,   38,  229,  368,   75],\n",
              "       [   5,   27,   45, 6856,   36,   91,    3,   22,   26,   30],\n",
              "       [   2,  411,    2,    8, 5913,    1,   14,  180,    4,  289],\n",
              "       [   4,  214,   15, 1000,  340, 4521,  176,    0,    6,   37],\n",
              "       [ 321,   63,   47,   63, 3724,    4, 2634,    6,   11,    3],\n",
              "       [  94,  595,  194,   38,  202,   81,   22, 6008,    0,   59],\n",
              "       [   5,  761,  105, 1105,  217,  109,  181,  156, 3807,  379],\n",
              "       [  54,  741,   29,   56, 1786,  212,   20,  855,   15, 3190]])"
            ]
          },
          "metadata": {
            "tags": []
          },
          "execution_count": 12
        }
      ]
    },
    {
      "cell_type": "code",
      "metadata": {
        "id": "ppl_FoUA-nzy",
        "colab_type": "code",
        "outputId": "e04ed935-451b-4573-a314-ce84a52036ef",
        "colab": {
          "base_uri": "https://localhost:8080/",
          "height": 35
        }
      },
      "source": [
        "np.shape(source['data'])"
      ],
      "execution_count": 0,
      "outputs": [
        {
          "output_type": "execute_result",
          "data": {
            "text/plain": [
              "(300000, 32, 32, 1)"
            ]
          },
          "metadata": {
            "tags": []
          },
          "execution_count": 18
        }
      ]
    }
  ]
}